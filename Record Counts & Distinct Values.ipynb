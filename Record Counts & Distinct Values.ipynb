{
 "cells": [
  {
   "cell_type": "code",
   "execution_count": 2,
   "id": "f277755b",
   "metadata": {},
   "outputs": [],
   "source": [
    "import pandas as pd"
   ]
  },
  {
   "cell_type": "code",
   "execution_count": 6,
   "id": "78b4c77e",
   "metadata": {},
   "outputs": [
    {
     "name": "stdout",
     "output_type": "stream",
     "text": [
      "<class 'pandas.core.frame.DataFrame'>\n",
      "RangeIndex: 997 entries, 0 to 996\n",
      "Data columns (total 8 columns):\n",
      " #   Column       Non-Null Count  Dtype  \n",
      "---  ------       --------------  -----  \n",
      " 0   fid          997 non-null    int64  \n",
      " 1   title        997 non-null    object \n",
      " 2   description  997 non-null    object \n",
      " 3   category     997 non-null    object \n",
      " 4   price        997 non-null    float64\n",
      " 5   length       997 non-null    int64  \n",
      " 6   rating       997 non-null    object \n",
      " 7   actors       997 non-null    object \n",
      "dtypes: float64(1), int64(2), object(5)\n",
      "memory usage: 62.4+ KB\n"
     ]
    }
   ],
   "source": [
    "filmdf = pd.read_csv(r\"C:\\Users\\oriha\\Desktop\\Serious Sql Excercises\\csv\\dvd_rentals_film_list.csv\")\n",
    "filmdf.info()"
   ]
  },
  {
   "cell_type": "code",
   "execution_count": 7,
   "id": "7d6dda2f",
   "metadata": {},
   "outputs": [
    {
     "data": {
      "text/plain": [
       "array(['New', 'Animation', 'Travel', 'Comedy', 'Horror', 'Action',\n",
       "       'Games', 'Family', 'Drama', 'Documentary', 'Classics', 'Sports',\n",
       "       'Sci-Fi', 'Music', 'Children', 'Foreign'], dtype=object)"
      ]
     },
     "execution_count": 7,
     "metadata": {},
     "output_type": "execute_result"
    }
   ],
   "source": [
    "filmdf[\"category\"].unique() # perfect fit for a category type"
   ]
  },
  {
   "cell_type": "code",
   "execution_count": 15,
   "id": "5bc074b5",
   "metadata": {},
   "outputs": [
    {
     "name": "stdout",
     "output_type": "stream",
     "text": [
      "<class 'pandas.core.frame.DataFrame'>\n",
      "RangeIndex: 997 entries, 0 to 996\n",
      "Data columns (total 8 columns):\n",
      " #   Column       Non-Null Count  Dtype   \n",
      "---  ------       --------------  -----   \n",
      " 0   fid          997 non-null    int64   \n",
      " 1   title        997 non-null    object  \n",
      " 2   description  997 non-null    object  \n",
      " 3   category     997 non-null    category\n",
      " 4   price        997 non-null    float64 \n",
      " 5   length       997 non-null    int64   \n",
      " 6   rating       997 non-null    category\n",
      " 7   actors       997 non-null    object  \n",
      "dtypes: category(2), float64(1), int64(2), object(3)\n",
      "memory usage: 49.7+ KB\n"
     ]
    }
   ],
   "source": [
    "filmdf[\"category\"] = filmdf[\"category\"].astype(\"category\")\n",
    "# lets also switch rating into a category\n",
    "filmdf[\"rating\"] = filmdf[\"rating\"].astype(\"category\")\n",
    "filmdf.info()\n",
    "#its a small data set but we shrunk it about 20%."
   ]
  },
  {
   "cell_type": "code",
   "execution_count": 24,
   "id": "932c4ee4",
   "metadata": {},
   "outputs": [
    {
     "data": {
      "text/plain": [
       "997"
      ]
     },
     "execution_count": 24,
     "metadata": {},
     "output_type": "execute_result"
    }
   ],
   "source": [
    "# How Many Records first method\n",
    "#filmdf.info()\n",
    "#second\n",
    "#filmdf.shape\n",
    "# third as we know there arent any null values\n",
    "#filmdf[\"category\"].count()\n",
    "#fourth\n",
    "len(filmdf)"
   ]
  },
  {
   "cell_type": "code",
   "execution_count": 26,
   "id": "93314f09",
   "metadata": {},
   "outputs": [
    {
     "data": {
      "text/plain": [
       "['PG-13', 'R', 'NC-17', 'G', 'PG']\n",
       "Categories (5, object): ['G', 'NC-17', 'PG', 'PG-13', 'R']"
      ]
     },
     "execution_count": 26,
     "metadata": {},
     "output_type": "execute_result"
    }
   ],
   "source": [
    "# Show Unique Column Values in ratings\n",
    "filmdf[\"rating\"].unique()"
   ]
  },
  {
   "cell_type": "code",
   "execution_count": 27,
   "id": "15233a76",
   "metadata": {},
   "outputs": [
    {
     "data": {
      "text/plain": [
       "16"
      ]
     },
     "execution_count": 27,
     "metadata": {},
     "output_type": "execute_result"
    }
   ],
   "source": [
    "# Count of Unique Values in category\n",
    "len(filmdf['category'].unique())"
   ]
  },
  {
   "cell_type": "code",
   "execution_count": 33,
   "id": "ddb86af0",
   "metadata": {},
   "outputs": [
    {
     "data": {
      "text/plain": [
       "rating\n",
       "PG-13    223\n",
       "NC-17    210\n",
       "PG       194\n",
       "R        193\n",
       "G        177\n",
       "Name: rating, dtype: int64"
      ]
     },
     "execution_count": 33,
     "metadata": {},
     "output_type": "execute_result"
    }
   ],
   "source": [
    "# Group By Counts based on category\n",
    "filmdfgrp = filmdf.groupby('rating')\n",
    "filmdfgrp[\"rating\"].count().sort_values(ascending = False)"
   ]
  },
  {
   "cell_type": "code",
   "execution_count": 49,
   "id": "e1a17953",
   "metadata": {},
   "outputs": [
    {
     "data": {
      "text/html": [
       "<div>\n",
       "<style scoped>\n",
       "    .dataframe tbody tr th:only-of-type {\n",
       "        vertical-align: middle;\n",
       "    }\n",
       "\n",
       "    .dataframe tbody tr th {\n",
       "        vertical-align: top;\n",
       "    }\n",
       "\n",
       "    .dataframe thead th {\n",
       "        text-align: right;\n",
       "    }\n",
       "</style>\n",
       "<table border=\"1\" class=\"dataframe\">\n",
       "  <thead>\n",
       "    <tr style=\"text-align: right;\">\n",
       "      <th></th>\n",
       "      <th>rating</th>\n",
       "      <th>percentage</th>\n",
       "    </tr>\n",
       "    <tr>\n",
       "      <th>rating</th>\n",
       "      <th></th>\n",
       "      <th></th>\n",
       "    </tr>\n",
       "  </thead>\n",
       "  <tbody>\n",
       "    <tr>\n",
       "      <th>PG-13</th>\n",
       "      <td>223</td>\n",
       "      <td>0.223671</td>\n",
       "    </tr>\n",
       "    <tr>\n",
       "      <th>NC-17</th>\n",
       "      <td>210</td>\n",
       "      <td>0.210632</td>\n",
       "    </tr>\n",
       "    <tr>\n",
       "      <th>PG</th>\n",
       "      <td>194</td>\n",
       "      <td>0.194584</td>\n",
       "    </tr>\n",
       "    <tr>\n",
       "      <th>R</th>\n",
       "      <td>193</td>\n",
       "      <td>0.193581</td>\n",
       "    </tr>\n",
       "    <tr>\n",
       "      <th>G</th>\n",
       "      <td>177</td>\n",
       "      <td>0.177533</td>\n",
       "    </tr>\n",
       "  </tbody>\n",
       "</table>\n",
       "</div>"
      ],
      "text/plain": [
       "        rating  percentage\n",
       "rating                    \n",
       "PG-13      223    0.223671\n",
       "NC-17      210    0.210632\n",
       "PG         194    0.194584\n",
       "R          193    0.193581\n",
       "G          177    0.177533"
      ]
     },
     "execution_count": 49,
     "metadata": {},
     "output_type": "execute_result"
    }
   ],
   "source": [
    "# Adding a Percentage Column\n",
    "newdf = filmdfgrp[\"rating\"].count().sort_values(ascending = False).to_frame()\n",
    "newdf[\"percentage\"] = newdf[\"rating\"] / newdf[\"rating\"].sum()\n",
    "newdf"
   ]
  },
  {
   "cell_type": "code",
   "execution_count": 50,
   "id": "ae72579d",
   "metadata": {},
   "outputs": [
    {
     "data": {
      "text/html": [
       "<div>\n",
       "<style scoped>\n",
       "    .dataframe tbody tr th:only-of-type {\n",
       "        vertical-align: middle;\n",
       "    }\n",
       "\n",
       "    .dataframe tbody tr th {\n",
       "        vertical-align: top;\n",
       "    }\n",
       "\n",
       "    .dataframe thead th {\n",
       "        text-align: right;\n",
       "    }\n",
       "</style>\n",
       "<table border=\"1\" class=\"dataframe\">\n",
       "  <thead>\n",
       "    <tr style=\"text-align: right;\">\n",
       "      <th></th>\n",
       "      <th>rating</th>\n",
       "      <th>percentage</th>\n",
       "    </tr>\n",
       "    <tr>\n",
       "      <th>rating</th>\n",
       "      <th></th>\n",
       "      <th></th>\n",
       "    </tr>\n",
       "  </thead>\n",
       "  <tbody>\n",
       "    <tr>\n",
       "      <th>PG-13</th>\n",
       "      <td>223</td>\n",
       "      <td>22.37</td>\n",
       "    </tr>\n",
       "    <tr>\n",
       "      <th>NC-17</th>\n",
       "      <td>210</td>\n",
       "      <td>21.06</td>\n",
       "    </tr>\n",
       "    <tr>\n",
       "      <th>PG</th>\n",
       "      <td>194</td>\n",
       "      <td>19.46</td>\n",
       "    </tr>\n",
       "    <tr>\n",
       "      <th>R</th>\n",
       "      <td>193</td>\n",
       "      <td>19.36</td>\n",
       "    </tr>\n",
       "    <tr>\n",
       "      <th>G</th>\n",
       "      <td>177</td>\n",
       "      <td>17.75</td>\n",
       "    </tr>\n",
       "  </tbody>\n",
       "</table>\n",
       "</div>"
      ],
      "text/plain": [
       "        rating  percentage\n",
       "rating                    \n",
       "PG-13      223       22.37\n",
       "NC-17      210       21.06\n",
       "PG         194       19.46\n",
       "R          193       19.36\n",
       "G          177       17.75"
      ]
     },
     "execution_count": 50,
     "metadata": {},
     "output_type": "execute_result"
    }
   ],
   "source": [
    "# rounding percentage to 2 decimal points\n",
    "newdf['percentage'] = (newdf['percentage'] * 100).round(2)\n",
    "newdf"
   ]
  },
  {
   "cell_type": "code",
   "execution_count": 58,
   "id": "19b954b6",
   "metadata": {},
   "outputs": [
    {
     "data": {
      "text/plain": [
       "rating  category \n",
       "PG-13   Drama        22\n",
       "NC-17   Music        20\n",
       "PG-13   Foreign      19\n",
       "        Animation    19\n",
       "PG      Family       18\n",
       "                     ..\n",
       "NC-17   Horror        7\n",
       "PG      Drama         7\n",
       "R       Drama         5\n",
       "PG      Games         5\n",
       "G       Music         2\n",
       "Name: rating, Length: 80, dtype: int64"
      ]
     },
     "execution_count": 58,
     "metadata": {},
     "output_type": "execute_result"
    }
   ],
   "source": [
    "# grouping by multiple columns\n",
    "newgrpdf = filmdf.groupby(['rating','category'])\n",
    "newgrpdf['rating'].count().sort_values(ascending = False)"
   ]
  },
  {
   "cell_type": "code",
   "execution_count": 61,
   "id": "3f04e2de",
   "metadata": {},
   "outputs": [
    {
     "data": {
      "text/plain": [
       "actor_id\n",
       "107    42\n",
       "102    41\n",
       "198    40\n",
       "181    39\n",
       "23     37\n",
       "       ..\n",
       "71     18\n",
       "186    16\n",
       "35     15\n",
       "199    15\n",
       "148    14\n",
       "Name: film_id, Length: 200, dtype: int64"
      ]
     },
     "execution_count": 61,
     "metadata": {},
     "output_type": "execute_result"
    }
   ],
   "source": [
    "#exercise one  - Which actor_id has the most number of unique film_id records in the dvd_rentals.film_actor table?\n",
    "filmactor = pd.read_csv(r\"C:\\Users\\oriha\\Desktop\\Serious Sql Excercises\\csv\\dvd_rentals_film_actor.csv\")\n",
    "filmactor.groupby(\"actor_id\").film_id.nunique().sort_values(ascending = False)"
   ]
  },
  {
   "cell_type": "code",
   "execution_count": 64,
   "id": "6cd093c9",
   "metadata": {},
   "outputs": [
    {
     "data": {
      "text/plain": [
       "price\n",
       "2.99    323\n",
       "4.99    334\n",
       "0.99    340\n",
       "Name: fid, dtype: int64"
      ]
     },
     "execution_count": 64,
     "metadata": {},
     "output_type": "execute_result"
    }
   ],
   "source": [
    "# How many distinct fid values are there for the 3rd most common price value in the\n",
    "rentalsnicer = pd.read_csv(r\"C:\\Users\\oriha\\Desktop\\Serious Sql Excercises\\csv\\dvd_rentals_nicer_but_slower_film_list.csv\")\n",
    "rentalsnicer.groupby(\"price\").fid.nunique().sort_values()"
   ]
  },
  {
   "cell_type": "code",
   "execution_count": 65,
   "id": "67484bf7",
   "metadata": {},
   "outputs": [
    {
     "data": {
      "text/plain": [
       "109"
      ]
     },
     "execution_count": 65,
     "metadata": {},
     "output_type": "execute_result"
    }
   ],
   "source": [
    "# exercise three - How many unique country_id values exist in the dvd_rentals.city table?\n",
    "rentalcities = pd.read_csv(r\"C:\\Users\\oriha\\Desktop\\Serious Sql Excercises\\csv\\dvd_rentals_city.csv\")\n",
    "rentalcities[\"country_id\"].nunique()"
   ]
  },
  {
   "cell_type": "code",
   "execution_count": 66,
   "id": "a79948f8",
   "metadata": {},
   "outputs": [
    {
     "data": {
      "text/html": [
       "<style type=\"text/css\">\n",
       "</style>\n",
       "<table id=\"T_d0abb_\">\n",
       "  <thead>\n",
       "    <tr>\n",
       "      <th class=\"blank level0\" >&nbsp;</th>\n",
       "      <th class=\"col_heading level0 col0\" >category</th>\n",
       "      <th class=\"col_heading level0 col1\" >total_sales</th>\n",
       "      <th class=\"col_heading level0 col2\" >SumSales</th>\n",
       "      <th class=\"col_heading level0 col3\" >salespercent</th>\n",
       "    </tr>\n",
       "  </thead>\n",
       "  <tbody>\n",
       "    <tr>\n",
       "      <th id=\"T_d0abb_level0_row0\" class=\"row_heading level0 row0\" >0</th>\n",
       "      <td id=\"T_d0abb_row0_col0\" class=\"data row0 col0\" >Sports</td>\n",
       "      <td id=\"T_d0abb_row0_col1\" class=\"data row0 col1\" >5314.210000</td>\n",
       "      <td id=\"T_d0abb_row0_col2\" class=\"data row0 col2\" >67416.510000</td>\n",
       "      <td id=\"T_d0abb_row0_col3\" class=\"data row0 col3\" >7.88%</td>\n",
       "    </tr>\n",
       "    <tr>\n",
       "      <th id=\"T_d0abb_level0_row1\" class=\"row_heading level0 row1\" >1</th>\n",
       "      <td id=\"T_d0abb_row1_col0\" class=\"data row1 col0\" >Sci-Fi</td>\n",
       "      <td id=\"T_d0abb_row1_col1\" class=\"data row1 col1\" >4756.980000</td>\n",
       "      <td id=\"T_d0abb_row1_col2\" class=\"data row1 col2\" >67416.510000</td>\n",
       "      <td id=\"T_d0abb_row1_col3\" class=\"data row1 col3\" >7.06%</td>\n",
       "    </tr>\n",
       "    <tr>\n",
       "      <th id=\"T_d0abb_level0_row2\" class=\"row_heading level0 row2\" >2</th>\n",
       "      <td id=\"T_d0abb_row2_col0\" class=\"data row2 col0\" >Animation</td>\n",
       "      <td id=\"T_d0abb_row2_col1\" class=\"data row2 col1\" >4656.300000</td>\n",
       "      <td id=\"T_d0abb_row2_col2\" class=\"data row2 col2\" >67416.510000</td>\n",
       "      <td id=\"T_d0abb_row2_col3\" class=\"data row2 col3\" >6.91%</td>\n",
       "    </tr>\n",
       "    <tr>\n",
       "      <th id=\"T_d0abb_level0_row3\" class=\"row_heading level0 row3\" >3</th>\n",
       "      <td id=\"T_d0abb_row3_col0\" class=\"data row3 col0\" >Drama</td>\n",
       "      <td id=\"T_d0abb_row3_col1\" class=\"data row3 col1\" >4587.390000</td>\n",
       "      <td id=\"T_d0abb_row3_col2\" class=\"data row3 col2\" >67416.510000</td>\n",
       "      <td id=\"T_d0abb_row3_col3\" class=\"data row3 col3\" >6.80%</td>\n",
       "    </tr>\n",
       "    <tr>\n",
       "      <th id=\"T_d0abb_level0_row4\" class=\"row_heading level0 row4\" >4</th>\n",
       "      <td id=\"T_d0abb_row4_col0\" class=\"data row4 col0\" >Comedy</td>\n",
       "      <td id=\"T_d0abb_row4_col1\" class=\"data row4 col1\" >4383.580000</td>\n",
       "      <td id=\"T_d0abb_row4_col2\" class=\"data row4 col2\" >67416.510000</td>\n",
       "      <td id=\"T_d0abb_row4_col3\" class=\"data row4 col3\" >6.50%</td>\n",
       "    </tr>\n",
       "    <tr>\n",
       "      <th id=\"T_d0abb_level0_row5\" class=\"row_heading level0 row5\" >5</th>\n",
       "      <td id=\"T_d0abb_row5_col0\" class=\"data row5 col0\" >Action</td>\n",
       "      <td id=\"T_d0abb_row5_col1\" class=\"data row5 col1\" >4375.850000</td>\n",
       "      <td id=\"T_d0abb_row5_col2\" class=\"data row5 col2\" >67416.510000</td>\n",
       "      <td id=\"T_d0abb_row5_col3\" class=\"data row5 col3\" >6.49%</td>\n",
       "    </tr>\n",
       "    <tr>\n",
       "      <th id=\"T_d0abb_level0_row6\" class=\"row_heading level0 row6\" >6</th>\n",
       "      <td id=\"T_d0abb_row6_col0\" class=\"data row6 col0\" >New</td>\n",
       "      <td id=\"T_d0abb_row6_col1\" class=\"data row6 col1\" >4352.610000</td>\n",
       "      <td id=\"T_d0abb_row6_col2\" class=\"data row6 col2\" >67416.510000</td>\n",
       "      <td id=\"T_d0abb_row6_col3\" class=\"data row6 col3\" >6.46%</td>\n",
       "    </tr>\n",
       "    <tr>\n",
       "      <th id=\"T_d0abb_level0_row7\" class=\"row_heading level0 row7\" >7</th>\n",
       "      <td id=\"T_d0abb_row7_col0\" class=\"data row7 col0\" >Games</td>\n",
       "      <td id=\"T_d0abb_row7_col1\" class=\"data row7 col1\" >4281.330000</td>\n",
       "      <td id=\"T_d0abb_row7_col2\" class=\"data row7 col2\" >67416.510000</td>\n",
       "      <td id=\"T_d0abb_row7_col3\" class=\"data row7 col3\" >6.35%</td>\n",
       "    </tr>\n",
       "    <tr>\n",
       "      <th id=\"T_d0abb_level0_row8\" class=\"row_heading level0 row8\" >8</th>\n",
       "      <td id=\"T_d0abb_row8_col0\" class=\"data row8 col0\" >Foreign</td>\n",
       "      <td id=\"T_d0abb_row8_col1\" class=\"data row8 col1\" >4270.670000</td>\n",
       "      <td id=\"T_d0abb_row8_col2\" class=\"data row8 col2\" >67416.510000</td>\n",
       "      <td id=\"T_d0abb_row8_col3\" class=\"data row8 col3\" >6.33%</td>\n",
       "    </tr>\n",
       "    <tr>\n",
       "      <th id=\"T_d0abb_level0_row9\" class=\"row_heading level0 row9\" >9</th>\n",
       "      <td id=\"T_d0abb_row9_col0\" class=\"data row9 col0\" >Family</td>\n",
       "      <td id=\"T_d0abb_row9_col1\" class=\"data row9 col1\" >4235.030000</td>\n",
       "      <td id=\"T_d0abb_row9_col2\" class=\"data row9 col2\" >67416.510000</td>\n",
       "      <td id=\"T_d0abb_row9_col3\" class=\"data row9 col3\" >6.28%</td>\n",
       "    </tr>\n",
       "    <tr>\n",
       "      <th id=\"T_d0abb_level0_row10\" class=\"row_heading level0 row10\" >10</th>\n",
       "      <td id=\"T_d0abb_row10_col0\" class=\"data row10 col0\" >Documentary</td>\n",
       "      <td id=\"T_d0abb_row10_col1\" class=\"data row10 col1\" >4217.520000</td>\n",
       "      <td id=\"T_d0abb_row10_col2\" class=\"data row10 col2\" >67416.510000</td>\n",
       "      <td id=\"T_d0abb_row10_col3\" class=\"data row10 col3\" >6.26%</td>\n",
       "    </tr>\n",
       "    <tr>\n",
       "      <th id=\"T_d0abb_level0_row11\" class=\"row_heading level0 row11\" >11</th>\n",
       "      <td id=\"T_d0abb_row11_col0\" class=\"data row11 col0\" >Horror</td>\n",
       "      <td id=\"T_d0abb_row11_col1\" class=\"data row11 col1\" >3722.540000</td>\n",
       "      <td id=\"T_d0abb_row11_col2\" class=\"data row11 col2\" >67416.510000</td>\n",
       "      <td id=\"T_d0abb_row11_col3\" class=\"data row11 col3\" >5.52%</td>\n",
       "    </tr>\n",
       "    <tr>\n",
       "      <th id=\"T_d0abb_level0_row12\" class=\"row_heading level0 row12\" >12</th>\n",
       "      <td id=\"T_d0abb_row12_col0\" class=\"data row12 col0\" >Children</td>\n",
       "      <td id=\"T_d0abb_row12_col1\" class=\"data row12 col1\" >3655.550000</td>\n",
       "      <td id=\"T_d0abb_row12_col2\" class=\"data row12 col2\" >67416.510000</td>\n",
       "      <td id=\"T_d0abb_row12_col3\" class=\"data row12 col3\" >5.42%</td>\n",
       "    </tr>\n",
       "    <tr>\n",
       "      <th id=\"T_d0abb_level0_row13\" class=\"row_heading level0 row13\" >13</th>\n",
       "      <td id=\"T_d0abb_row13_col0\" class=\"data row13 col0\" >Classics</td>\n",
       "      <td id=\"T_d0abb_row13_col1\" class=\"data row13 col1\" >3639.590000</td>\n",
       "      <td id=\"T_d0abb_row13_col2\" class=\"data row13 col2\" >67416.510000</td>\n",
       "      <td id=\"T_d0abb_row13_col3\" class=\"data row13 col3\" >5.40%</td>\n",
       "    </tr>\n",
       "    <tr>\n",
       "      <th id=\"T_d0abb_level0_row14\" class=\"row_heading level0 row14\" >14</th>\n",
       "      <td id=\"T_d0abb_row14_col0\" class=\"data row14 col0\" >Travel</td>\n",
       "      <td id=\"T_d0abb_row14_col1\" class=\"data row14 col1\" >3549.640000</td>\n",
       "      <td id=\"T_d0abb_row14_col2\" class=\"data row14 col2\" >67416.510000</td>\n",
       "      <td id=\"T_d0abb_row14_col3\" class=\"data row14 col3\" >5.27%</td>\n",
       "    </tr>\n",
       "    <tr>\n",
       "      <th id=\"T_d0abb_level0_row15\" class=\"row_heading level0 row15\" >15</th>\n",
       "      <td id=\"T_d0abb_row15_col0\" class=\"data row15 col0\" >Music</td>\n",
       "      <td id=\"T_d0abb_row15_col1\" class=\"data row15 col1\" >3417.720000</td>\n",
       "      <td id=\"T_d0abb_row15_col2\" class=\"data row15 col2\" >67416.510000</td>\n",
       "      <td id=\"T_d0abb_row15_col3\" class=\"data row15 col3\" >5.07%</td>\n",
       "    </tr>\n",
       "  </tbody>\n",
       "</table>\n"
      ],
      "text/plain": [
       "<pandas.io.formats.style.Styler at 0x2074503bcd0>"
      ]
     },
     "execution_count": 66,
     "metadata": {},
     "output_type": "execute_result"
    }
   ],
   "source": [
    "# exercise 4 -What percentage of overall total_sales does the Sports category make up \\\n",
    "# in the dvd_rentals.sales_by_film_category table\n",
    "salesbycat = pd.read_csv(r\"C:\\Users\\oriha\\Desktop\\Serious Sql Excercises\\csv\\dvd_rentals_sales_by_film_category.csv\")\n",
    "salesbycat[\"SumSales\"] = salesbycat[\"total_sales\"].sum()\n",
    "salesbycat[\"salespercent\"] = salesbycat[\"total_sales\"] / salesbycat[\"SumSales\"]\n",
    "format_dict = {'salespercent': '{:.2%}'} # to format as percentage\n",
    "salesbycat.style.format(format_dict)"
   ]
  },
  {
   "cell_type": "code",
   "execution_count": 67,
   "id": "af2e87db",
   "metadata": {},
   "outputs": [
    {
     "data": {
      "text/plain": [
       "category\n",
       "Foreign        0.073220\n",
       "Sports         0.073220\n",
       "Family         0.069208\n",
       "Documentary    0.068205\n",
       "Animation      0.066199\n",
       "Action         0.064193\n",
       "New            0.063190\n",
       "Drama          0.061184\n",
       "Games          0.061184\n",
       "Sci-Fi         0.061184\n",
       "Children       0.060181\n",
       "Comedy         0.058175\n",
       "Classics       0.057172\n",
       "Horror         0.056169\n",
       "Travel         0.056169\n",
       "Music          0.051153\n",
       "Name: fid, dtype: float64"
      ]
     },
     "execution_count": 67,
     "metadata": {},
     "output_type": "execute_result"
    }
   ],
   "source": [
    "# exercise five - What percentage of unique fid values are in the Children category in the dvd_rentals.film_list table?\n",
    "filmlist =  pd.read_csv(r\"C:\\Users\\oriha\\Desktop\\Serious Sql Excercises\\csv\\dvd_rentals_film_list.csv\")\n",
    "(filmlist.groupby(\"category\").fid.nunique() / filmlist[\"fid\"].nunique()).sort_values(ascending = False)"
   ]
  }
 ],
 "metadata": {
  "kernelspec": {
   "display_name": "Python 3 (ipykernel)",
   "language": "python",
   "name": "python3"
  },
  "language_info": {
   "codemirror_mode": {
    "name": "ipython",
    "version": 3
   },
   "file_extension": ".py",
   "mimetype": "text/x-python",
   "name": "python",
   "nbconvert_exporter": "python",
   "pygments_lexer": "ipython3",
   "version": "3.9.7"
  }
 },
 "nbformat": 4,
 "nbformat_minor": 5
}
