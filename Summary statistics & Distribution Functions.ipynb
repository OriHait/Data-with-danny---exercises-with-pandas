{
 "cells": [
  {
   "cell_type": "code",
   "execution_count": 263,
   "id": "ba06c1b2",
   "metadata": {},
   "outputs": [],
   "source": [
    "import pandas as pd\n",
    "import matplotlib.pyplot as plt\n",
    "%matplotlib inline"
   ]
  },
  {
   "cell_type": "code",
   "execution_count": 264,
   "id": "2a63da97",
   "metadata": {},
   "outputs": [],
   "source": [
    "healthdf = pd.read_csv(r\"C:\\Users\\oriha\\Desktop\\Serious Sql Excercises\\csv\\health_user_logs.csv\")"
   ]
  },
  {
   "cell_type": "code",
   "execution_count": 265,
   "id": "79454e05",
   "metadata": {},
   "outputs": [
    {
     "name": "stdout",
     "output_type": "stream",
     "text": [
      "<class 'pandas.core.frame.DataFrame'>\n",
      "RangeIndex: 43891 entries, 0 to 43890\n",
      "Data columns (total 6 columns):\n",
      " #   Column         Non-Null Count  Dtype  \n",
      "---  ------         --------------  -----  \n",
      " 0   id             43891 non-null  object \n",
      " 1   log_date       43891 non-null  object \n",
      " 2   measure        43891 non-null  object \n",
      " 3   measure_value  43891 non-null  float64\n",
      " 4   systolic       17868 non-null  float64\n",
      " 5   diastolic      17868 non-null  float64\n",
      "dtypes: float64(3), object(3)\n",
      "memory usage: 2.0+ MB\n"
     ]
    }
   ],
   "source": [
    "healthdf.info() # repeating performance tuning done in the last notebook"
   ]
  },
  {
   "cell_type": "code",
   "execution_count": 266,
   "id": "6ed88229",
   "metadata": {},
   "outputs": [],
   "source": [
    "healthdf[\"measure\"] = healthdf[\"measure\"].astype(\"category\")"
   ]
  },
  {
   "cell_type": "code",
   "execution_count": 267,
   "id": "d768a813",
   "metadata": {},
   "outputs": [
    {
     "name": "stdout",
     "output_type": "stream",
     "text": [
      "<class 'pandas.core.frame.DataFrame'>\n",
      "RangeIndex: 43891 entries, 0 to 43890\n",
      "Data columns (total 6 columns):\n",
      " #   Column         Non-Null Count  Dtype   \n",
      "---  ------         --------------  -----   \n",
      " 0   id             43891 non-null  object  \n",
      " 1   log_date       43891 non-null  object  \n",
      " 2   measure        43891 non-null  category\n",
      " 3   measure_value  43891 non-null  float64 \n",
      " 4   systolic       17868 non-null  float64 \n",
      " 5   diastolic      17868 non-null  float64 \n",
      "dtypes: category(1), float64(3), object(2)\n",
      "memory usage: 1.7+ MB\n"
     ]
    }
   ],
   "source": [
    "healthdf.info() # notice memory usage is down 300 kb, 15%"
   ]
  },
  {
   "cell_type": "code",
   "execution_count": 268,
   "id": "8aeb92aa",
   "metadata": {},
   "outputs": [],
   "source": [
    "healthdf[\"systolic\"].fillna(0, inplace = True) # getting rid of nan values\n",
    "healthdf[\"diastolic\"].fillna(0, inplace = True)"
   ]
  },
  {
   "cell_type": "code",
   "execution_count": 269,
   "id": "0d587309",
   "metadata": {},
   "outputs": [
    {
     "name": "stdout",
     "output_type": "stream",
     "text": [
      "<class 'pandas.core.frame.DataFrame'>\n",
      "RangeIndex: 43891 entries, 0 to 43890\n",
      "Data columns (total 6 columns):\n",
      " #   Column         Non-Null Count  Dtype   \n",
      "---  ------         --------------  -----   \n",
      " 0   id             43891 non-null  object  \n",
      " 1   log_date       43891 non-null  object  \n",
      " 2   measure        43891 non-null  category\n",
      " 3   measure_value  43891 non-null  float64 \n",
      " 4   systolic       43891 non-null  float64 \n",
      " 5   diastolic      43891 non-null  float64 \n",
      "dtypes: category(1), float64(3), object(2)\n",
      "memory usage: 1.7+ MB\n"
     ]
    }
   ],
   "source": [
    "healthdf.info()"
   ]
  },
  {
   "cell_type": "code",
   "execution_count": 270,
   "id": "fa8a0bfe",
   "metadata": {},
   "outputs": [
    {
     "data": {
      "text/plain": [
       "1986.2288605267076"
      ]
     },
     "execution_count": 270,
     "metadata": {},
     "output_type": "execute_result"
    }
   ],
   "source": [
    "healthdf[\"measure_value\"].mean() #average for measure value"
   ]
  },
  {
   "cell_type": "code",
   "execution_count": 244,
   "id": "15dddf63",
   "metadata": {},
   "outputs": [
    {
     "data": {
      "text/plain": [
       "measure\n",
       "blood_glucose     38692\n",
       "blood_pressure     2417\n",
       "weight             2782\n",
       "Name: measure, dtype: int64"
      ]
     },
     "execution_count": 244,
     "metadata": {},
     "output_type": "execute_result"
    }
   ],
   "source": [
    "healthdf.groupby(\"measure\")[\"measure\"].count() # record counts by measure type"
   ]
  },
  {
   "cell_type": "code",
   "execution_count": 245,
   "id": "9fb27348",
   "metadata": {},
   "outputs": [
    {
     "data": {
      "text/html": [
       "<div>\n",
       "<style scoped>\n",
       "    .dataframe tbody tr th:only-of-type {\n",
       "        vertical-align: middle;\n",
       "    }\n",
       "\n",
       "    .dataframe tbody tr th {\n",
       "        vertical-align: top;\n",
       "    }\n",
       "\n",
       "    .dataframe thead th {\n",
       "        text-align: right;\n",
       "    }\n",
       "</style>\n",
       "<table border=\"1\" class=\"dataframe\">\n",
       "  <thead>\n",
       "    <tr style=\"text-align: right;\">\n",
       "      <th></th>\n",
       "      <th>count</th>\n",
       "      <th>mean</th>\n",
       "    </tr>\n",
       "    <tr>\n",
       "      <th>measure</th>\n",
       "      <th></th>\n",
       "      <th></th>\n",
       "    </tr>\n",
       "  </thead>\n",
       "  <tbody>\n",
       "    <tr>\n",
       "      <th>blood_glucose</th>\n",
       "      <td>38692</td>\n",
       "      <td>177.350</td>\n",
       "    </tr>\n",
       "    <tr>\n",
       "      <th>blood_pressure</th>\n",
       "      <td>2417</td>\n",
       "      <td>95.400</td>\n",
       "    </tr>\n",
       "    <tr>\n",
       "      <th>weight</th>\n",
       "      <td>2782</td>\n",
       "      <td>28786.850</td>\n",
       "    </tr>\n",
       "  </tbody>\n",
       "</table>\n",
       "</div>"
      ],
      "text/plain": [
       "                count      mean\n",
       "measure                        \n",
       "blood_glucose   38692   177.350\n",
       "blood_pressure   2417    95.400\n",
       "weight           2782 28786.850"
      ]
     },
     "execution_count": 245,
     "metadata": {},
     "output_type": "execute_result"
    }
   ],
   "source": [
    "healthdf.groupby(\"measure\")[\"measure_value\"].agg([\"count\",\"mean\"]).round(2) # yeah, definitely something fishy"
   ]
  },
  {
   "cell_type": "code",
   "execution_count": 272,
   "id": "5d1de1d3",
   "metadata": {},
   "outputs": [
    {
     "data": {
      "text/plain": [
       "(75.976721975, 68.49244787)"
      ]
     },
     "execution_count": 272,
     "metadata": {},
     "output_type": "execute_result"
    }
   ],
   "source": [
    "# median & mode for the weight measurement type\n",
    "median = healthdf[\"measure_value\"][healthdf[\"measure\"] == \"weight\"].median() # median\n",
    "mode = healthdf[\"measure_value\"][healthdf[\"measure\"] == \"weight\"].mode()[0] # mode\n",
    "\n",
    "median, mode"
   ]
  },
  {
   "cell_type": "code",
   "execution_count": 278,
   "id": "c4576129",
   "metadata": {},
   "outputs": [
    {
     "data": {
      "text/plain": [
       "(0.0, 39642120.0, 39642115.0)"
      ]
     },
     "execution_count": 278,
     "metadata": {},
     "output_type": "execute_result"
    }
   ],
   "source": [
    "# min, max and range of values for the weight measurement type\n",
    "minimum = healthdf[\"measure_value\"][healthdf[\"measure\"] == \"weight\"].min() # minimum\n",
    "maximum = healthdf[\"measure_value\"][healthdf[\"measure\"] == \"weight\"].max() # maximum\n",
    "rangevalues = (healthdf[\"measure_value\"][healthdf[\"measure\"] == \"weight\"].max()\n",
    "- healthdf[\"measure_value\"][healthdf[\"measure\"] == \"weight\"].min()) # range of values\n",
    "        \n",
    "minimum, maximum, rangevalues"
   ]
  },
  {
   "cell_type": "code",
   "execution_count": 288,
   "id": "7f93beb0",
   "metadata": {},
   "outputs": [
    {
     "data": {
      "text/plain": [
       "(148, 114.0, 113.1)"
      ]
     },
     "execution_count": 288,
     "metadata": {},
     "output_type": "execute_result"
    }
   ],
   "source": [
    "# calculating summary stats on sample data\n",
    "sample_data =  [82, 51, 144, 84, 120, 148, 148, 108, 160, 86]\n",
    "mode = pd.Series(sample_data).mode()[0]\n",
    "median = pd.Series(sample_data).median()\n",
    "average = pd.Series(sample_data).mean()\n",
    "\n",
    "mode, median, average"
   ]
  },
  {
   "cell_type": "code",
   "execution_count": 289,
   "id": "8114924c",
   "metadata": {},
   "outputs": [
    {
     "data": {
      "text/plain": [
       "(28786.846657296002, 75.976721975, 68.49)"
      ]
     },
     "execution_count": 289,
     "metadata": {},
     "output_type": "execute_result"
    }
   ],
   "source": [
    "# summary stats for weight measurement type\n",
    "average = healthdf[\"measure_value\"][healthdf[\"measure\"] == \"weight\"].mean()\n",
    "median = healthdf[\"measure_value\"][healthdf[\"measure\"] == \"weight\"].median()\n",
    "mode = healthdf[\"measure_value\"][healthdf[\"measure\"] == \"weight\"].mode()[0].round(2)\n",
    "\n",
    "average, median, mode"
   ]
  },
  {
   "cell_type": "code",
   "execution_count": 294,
   "id": "97523296",
   "metadata": {},
   "outputs": [
    {
     "data": {
      "text/plain": [
       "(148, 114.0, 113.1, 36.61951513727194, 1340.9888888888886)"
      ]
     },
     "execution_count": 294,
     "metadata": {},
     "output_type": "execute_result"
    }
   ],
   "source": [
    "# adding std and var of sample data\n",
    "sample_data =  [82, 51, 144, 84, 120, 148, 148, 108, 160, 86]\n",
    "standarddev = pd.Series(sample_data).std()\n",
    "variance = pd.Series(sample_data).std() ** 2\n",
    "mode = pd.Series(sample_data).mode()[0]\n",
    "median = pd.Series(sample_data).median()\n",
    "average = pd.Series(sample_data).mean()\n",
    "\n",
    "mode, median, average, standarddev, variance"
   ]
  },
  {
   "cell_type": "code",
   "execution_count": 296,
   "id": "7c2e35c8",
   "metadata": {},
   "outputs": [
    {
     "data": {
      "text/plain": [
       "(1062759.5505961878, 1129457862383.4111, 39642120.0, 0.0)"
      ]
     },
     "execution_count": 296,
     "metadata": {},
     "output_type": "execute_result"
    }
   ],
   "source": [
    "# adding std, var, min & max to weight metrics\n",
    "standarddev = healthdf[\"measure_value\"][healthdf[\"measure\"] == \"weight\"].std() # standard deviation\n",
    "variance = healthdf[\"measure_value\"][healthdf[\"measure\"] == \"weight\"].std() ** 2 # variance\n",
    "minimum = healthdf[\"measure_value\"][healthdf[\"measure\"] == \"weight\"].min()\n",
    "maximum = healthdf[\"measure_value\"][healthdf[\"measure\"] == \"weight\"].max()\n",
    "\n",
    "standarddev, variance, maximum, minimum"
   ]
  },
  {
   "cell_type": "code",
   "execution_count": 301,
   "id": "290f3ff7",
   "metadata": {},
   "outputs": [
    {
     "data": {
      "text/plain": [
       "(177.35, 154.0, 401.0)"
      ]
     },
     "execution_count": 301,
     "metadata": {},
     "output_type": "execute_result"
    }
   ],
   "source": [
    "# exercise 1 what is the average median and mode values of blood glucose values to 2 decimal places\n",
    "mean = round(healthdf[\"measure_value\"][healthdf[\"measure\"] == \"blood_glucose\"].mean(),2)\n",
    "median = round(healthdf[\"measure_value\"][healthdf[\"measure\"] == \"blood_glucose\"].median(),2)\n",
    "mode = healthdf[\"measure_value\"][healthdf[\"measure\"] == \"blood_glucose\"].mode()[0].round(2)\n",
    "\n",
    "mean, median, mode"
   ]
  },
  {
   "cell_type": "code",
   "execution_count": 250,
   "id": "40fb9faf",
   "metadata": {},
   "outputs": [
    {
     "data": {
      "text/plain": [
       "401.000    433\n",
       "117.000    350\n",
       "118.000    307\n",
       "115.000    290\n",
       "126.000    290\n",
       "          ... \n",
       "338.693      1\n",
       "291.600      1\n",
       "97.284       1\n",
       "416.000      1\n",
       "221.400      1\n",
       "Name: measure_value, Length: 772, dtype: int64"
      ]
     },
     "execution_count": 250,
     "metadata": {},
     "output_type": "execute_result"
    }
   ],
   "source": [
    "# exercise 2 - what is the most frequently occuring measure_value value for all bood glucose measurements \n",
    "healthdf[\"measure_value\"][healthdf[\"measure\"] == \"blood_glucose\"].value_counts().sort_values(ascending = False)"
   ]
  },
  {
   "cell_type": "code",
   "execution_count": 302,
   "id": "973bbaf9",
   "metadata": {},
   "outputs": [
    {
     "data": {
      "text/plain": [
       "(-0.1932489003327237, 0.06052397102651687)"
      ]
     },
     "execution_count": 302,
     "metadata": {},
     "output_type": "execute_result"
    }
   ],
   "source": [
    "# excercise 3 - calculate the 2 pearson coefficient of skewness for blood glucose measures given the following formula\n",
    "median = healthdf[\"measure_value\"][healthdf[\"measure\"] == \"blood_glucose\"].median()\n",
    "mode = healthdf[\"measure_value\"][healthdf[\"measure\"] == \"blood_glucose\"].mode()[0]\n",
    "mean = healthdf[\"measure_value\"][healthdf[\"measure\"] == \"blood_glucose\"].mean()\n",
    "std = healthdf[\"measure_value\"][healthdf[\"measure\"] == \"blood_glucose\"].std()\n",
    "\n",
    "coeffiecient1 = (mean - mode) / std\n",
    "coeffiecient2 = 3 * ((mean - median) / std)\n",
    "\n",
    "coeffiecient1, coeffiecient2"
   ]
  },
  {
   "cell_type": "code",
   "execution_count": 303,
   "id": "8cf40e36",
   "metadata": {},
   "outputs": [
    {
     "data": {
      "text/html": [
       "<div>\n",
       "<style scoped>\n",
       "    .dataframe tbody tr th:only-of-type {\n",
       "        vertical-align: middle;\n",
       "    }\n",
       "\n",
       "    .dataframe tbody tr th {\n",
       "        vertical-align: top;\n",
       "    }\n",
       "\n",
       "    .dataframe thead th {\n",
       "        text-align: right;\n",
       "    }\n",
       "</style>\n",
       "<table border=\"1\" class=\"dataframe\">\n",
       "  <thead>\n",
       "    <tr style=\"text-align: right;\">\n",
       "      <th></th>\n",
       "      <th>measure</th>\n",
       "      <th>result</th>\n",
       "    </tr>\n",
       "  </thead>\n",
       "  <tbody>\n",
       "    <tr>\n",
       "      <th>0</th>\n",
       "      <td>minimum</td>\n",
       "      <td>0.000</td>\n",
       "    </tr>\n",
       "    <tr>\n",
       "      <th>1</th>\n",
       "      <td>maximum</td>\n",
       "      <td>39642120.000</td>\n",
       "    </tr>\n",
       "    <tr>\n",
       "      <th>2</th>\n",
       "      <td>meanvalue</td>\n",
       "      <td>28786.847</td>\n",
       "    </tr>\n",
       "    <tr>\n",
       "      <th>3</th>\n",
       "      <td>medianvalue</td>\n",
       "      <td>75.977</td>\n",
       "    </tr>\n",
       "    <tr>\n",
       "      <th>4</th>\n",
       "      <td>modevalue</td>\n",
       "      <td>68.492</td>\n",
       "    </tr>\n",
       "    <tr>\n",
       "      <th>5</th>\n",
       "      <td>standard_dev</td>\n",
       "      <td>1062759.551</td>\n",
       "    </tr>\n",
       "    <tr>\n",
       "      <th>6</th>\n",
       "      <td>deviation</td>\n",
       "      <td>1129457862383.411</td>\n",
       "    </tr>\n",
       "  </tbody>\n",
       "</table>\n",
       "</div>"
      ],
      "text/plain": [
       "        measure            result\n",
       "0       minimum             0.000\n",
       "1       maximum      39642120.000\n",
       "2     meanvalue         28786.847\n",
       "3   medianvalue            75.977\n",
       "4     modevalue            68.492\n",
       "5  standard_dev       1062759.551\n",
       "6     deviation 1129457862383.411"
      ]
     },
     "execution_count": 303,
     "metadata": {},
     "output_type": "execute_result"
    }
   ],
   "source": [
    "# Distribution Functions\n",
    "# measures recap\n",
    "minimum = healthdf[\"measure_value\"][healthdf[\"measure\"] == \"weight\"].min()\n",
    "maximum = healthdf[\"measure_value\"][healthdf[\"measure\"] == \"weight\"].max()\n",
    "meanvalue = healthdf[\"measure_value\"][healthdf[\"measure\"] == \"weight\"].mean()\n",
    "medianvalue = healthdf[\"measure_value\"][healthdf[\"measure\"] == \"weight\"].median()\n",
    "modevalue = healthdf[\"measure_value\"][healthdf[\"measure\"] == \"weight\"].mode()[0]\n",
    "standard_dev = healthdf[\"measure_value\"][healthdf[\"measure\"] == \"weight\"].std()\n",
    "deviation = healthdf[\"measure_value\"][healthdf[\"measure\"] == \"weight\"].std() ** 2\n",
    "\n",
    "measures_list = [\"minimum\",\"maximum\",\"meanvalue\",\"medianvalue\",\"modevalue\",\"standard_dev\",\"deviation\"]\n",
    "column_list = [\"measure\",\"result\"]\n",
    "value_list = [minimum,maximum,meanvalue,medianvalue,modevalue,standard_dev,deviation]\n",
    "\n",
    "columns_zipped = list(zip(measures_list,value_list))\n",
    "resultsdf = pd.DataFrame(columns_zipped, columns=column_list)\n",
    "resultsdf"
   ]
  },
  {
   "cell_type": "code",
   "execution_count": 309,
   "id": "f5d9c9a8",
   "metadata": {
    "scrolled": true
   },
   "outputs": [
    {
     "data": {
      "text/html": [
       "<div>\n",
       "<style scoped>\n",
       "    .dataframe tbody tr th:only-of-type {\n",
       "        vertical-align: middle;\n",
       "    }\n",
       "\n",
       "    .dataframe tbody tr th {\n",
       "        vertical-align: top;\n",
       "    }\n",
       "\n",
       "    .dataframe thead th {\n",
       "        text-align: right;\n",
       "    }\n",
       "</style>\n",
       "<table border=\"1\" class=\"dataframe\">\n",
       "  <thead>\n",
       "    <tr style=\"text-align: right;\">\n",
       "      <th></th>\n",
       "      <th>min</th>\n",
       "      <th>max</th>\n",
       "      <th>count</th>\n",
       "    </tr>\n",
       "    <tr>\n",
       "      <th>Ntile</th>\n",
       "      <th></th>\n",
       "      <th></th>\n",
       "      <th></th>\n",
       "    </tr>\n",
       "  </thead>\n",
       "  <tbody>\n",
       "    <tr>\n",
       "      <th>1</th>\n",
       "      <td>0.000</td>\n",
       "      <td>29.030</td>\n",
       "      <td>28</td>\n",
       "    </tr>\n",
       "    <tr>\n",
       "      <th>2</th>\n",
       "      <td>29.483</td>\n",
       "      <td>32.069</td>\n",
       "      <td>28</td>\n",
       "    </tr>\n",
       "    <tr>\n",
       "      <th>3</th>\n",
       "      <td>32.205</td>\n",
       "      <td>35.380</td>\n",
       "      <td>28</td>\n",
       "    </tr>\n",
       "    <tr>\n",
       "      <th>4</th>\n",
       "      <td>35.380</td>\n",
       "      <td>36.741</td>\n",
       "      <td>28</td>\n",
       "    </tr>\n",
       "    <tr>\n",
       "      <th>5</th>\n",
       "      <td>36.741</td>\n",
       "      <td>37.195</td>\n",
       "      <td>28</td>\n",
       "    </tr>\n",
       "    <tr>\n",
       "      <th>...</th>\n",
       "      <td>...</td>\n",
       "      <td>...</td>\n",
       "      <td>...</td>\n",
       "    </tr>\n",
       "    <tr>\n",
       "      <th>96</th>\n",
       "      <td>130.518</td>\n",
       "      <td>131.542</td>\n",
       "      <td>28</td>\n",
       "    </tr>\n",
       "    <tr>\n",
       "      <th>97</th>\n",
       "      <td>131.542</td>\n",
       "      <td>132.660</td>\n",
       "      <td>28</td>\n",
       "    </tr>\n",
       "    <tr>\n",
       "      <th>98</th>\n",
       "      <td>132.736</td>\n",
       "      <td>133.810</td>\n",
       "      <td>28</td>\n",
       "    </tr>\n",
       "    <tr>\n",
       "      <th>99</th>\n",
       "      <td>133.832</td>\n",
       "      <td>136.531</td>\n",
       "      <td>28</td>\n",
       "    </tr>\n",
       "    <tr>\n",
       "      <th>100</th>\n",
       "      <td>136.531</td>\n",
       "      <td>39642120.000</td>\n",
       "      <td>28</td>\n",
       "    </tr>\n",
       "  </tbody>\n",
       "</table>\n",
       "<p>100 rows × 3 columns</p>\n",
       "</div>"
      ],
      "text/plain": [
       "          min          max  count\n",
       "Ntile                            \n",
       "1       0.000       29.030     28\n",
       "2      29.483       32.069     28\n",
       "3      32.205       35.380     28\n",
       "4      35.380       36.741     28\n",
       "5      36.741       37.195     28\n",
       "...       ...          ...    ...\n",
       "96    130.518      131.542     28\n",
       "97    131.542      132.660     28\n",
       "98    132.736      133.810     28\n",
       "99    133.832      136.531     28\n",
       "100   136.531 39642120.000     28\n",
       "\n",
       "[100 rows x 3 columns]"
      ]
     },
     "execution_count": 309,
     "metadata": {},
     "output_type": "execute_result"
    }
   ],
   "source": [
    "# Reverse Engineering\n",
    "# pd.reset_option('display.float_format') --> to revert back to the default number display options\n",
    "pd.set_option('display.float_format', lambda x: '%.3f' % x)\n",
    "cuts = 100\n",
    "weightdf = healthdf[healthdf[\"measure\"] == \"weight\"].copy()\n",
    "weightdf[\"Ntile\"] = pd.qcut(weightdf[\"measure_value\"].rank(method='first'), cuts, labels = range(1, cuts + 1))\n",
    "groupeddf = weightdf.groupby(\"Ntile\")\n",
    "groupeddf[\"measure_value\"].agg([\"min\",\"max\",\"count\"])"
   ]
  },
  {
   "cell_type": "code",
   "execution_count": 311,
   "id": "1417754d",
   "metadata": {},
   "outputs": [
    {
     "data": {
      "text/plain": [
       "(min      0.000\n",
       " max     29.030\n",
       " count   28.000\n",
       " Name: measure_value, dtype: float64,\n",
       " min          136.531\n",
       " max     39642120.000\n",
       " count         28.000\n",
       " Name: measure_value, dtype: float64)"
      ]
     },
     "execution_count": 311,
     "metadata": {},
     "output_type": "execute_result"
    }
   ],
   "source": [
    "# taking a look at the 1 and 100th percentile\n",
    "onepercent = groupeddf.get_group(1)[\"measure_value\"].agg([\"min\",\"max\",\"count\"])\n",
    "hundred_percent = groupeddf.get_group(100)[\"measure_value\"].agg([\"min\",\"max\",\"count\"])\n",
    "\n",
    "onepercent, hundred_percent"
   ]
  },
  {
   "cell_type": "code",
   "execution_count": 256,
   "id": "42e567d5",
   "metadata": {
    "scrolled": true
   },
   "outputs": [
    {
     "data": {
      "text/html": [
       "<div>\n",
       "<style scoped>\n",
       "    .dataframe tbody tr th:only-of-type {\n",
       "        vertical-align: middle;\n",
       "    }\n",
       "\n",
       "    .dataframe tbody tr th {\n",
       "        vertical-align: top;\n",
       "    }\n",
       "\n",
       "    .dataframe thead th {\n",
       "        text-align: right;\n",
       "    }\n",
       "</style>\n",
       "<table border=\"1\" class=\"dataframe\">\n",
       "  <thead>\n",
       "    <tr style=\"text-align: right;\">\n",
       "      <th></th>\n",
       "      <th>Ntile</th>\n",
       "      <th>measure_value</th>\n",
       "      <th>row_number_order</th>\n",
       "      <th>rank_order</th>\n",
       "      <th>dense_rank</th>\n",
       "    </tr>\n",
       "  </thead>\n",
       "  <tbody>\n",
       "    <tr>\n",
       "      <th>0</th>\n",
       "      <td>100</td>\n",
       "      <td>39642120.000</td>\n",
       "      <td>1</td>\n",
       "      <td>1</td>\n",
       "      <td>1</td>\n",
       "    </tr>\n",
       "    <tr>\n",
       "      <th>1</th>\n",
       "      <td>100</td>\n",
       "      <td>39642120.000</td>\n",
       "      <td>2</td>\n",
       "      <td>1</td>\n",
       "      <td>1</td>\n",
       "    </tr>\n",
       "    <tr>\n",
       "      <th>2</th>\n",
       "      <td>100</td>\n",
       "      <td>576484.000</td>\n",
       "      <td>3</td>\n",
       "      <td>3</td>\n",
       "      <td>2</td>\n",
       "    </tr>\n",
       "    <tr>\n",
       "      <th>3</th>\n",
       "      <td>100</td>\n",
       "      <td>200.488</td>\n",
       "      <td>4</td>\n",
       "      <td>4</td>\n",
       "      <td>3</td>\n",
       "    </tr>\n",
       "    <tr>\n",
       "      <th>4</th>\n",
       "      <td>100</td>\n",
       "      <td>190.400</td>\n",
       "      <td>5</td>\n",
       "      <td>5</td>\n",
       "      <td>4</td>\n",
       "    </tr>\n",
       "    <tr>\n",
       "      <th>5</th>\n",
       "      <td>100</td>\n",
       "      <td>188.694</td>\n",
       "      <td>6</td>\n",
       "      <td>6</td>\n",
       "      <td>5</td>\n",
       "    </tr>\n",
       "    <tr>\n",
       "      <th>6</th>\n",
       "      <td>100</td>\n",
       "      <td>186.880</td>\n",
       "      <td>7</td>\n",
       "      <td>7</td>\n",
       "      <td>6</td>\n",
       "    </tr>\n",
       "    <tr>\n",
       "      <th>7</th>\n",
       "      <td>100</td>\n",
       "      <td>185.519</td>\n",
       "      <td>8</td>\n",
       "      <td>8</td>\n",
       "      <td>7</td>\n",
       "    </tr>\n",
       "    <tr>\n",
       "      <th>8</th>\n",
       "      <td>100</td>\n",
       "      <td>175.087</td>\n",
       "      <td>9</td>\n",
       "      <td>9</td>\n",
       "      <td>8</td>\n",
       "    </tr>\n",
       "    <tr>\n",
       "      <th>9</th>\n",
       "      <td>100</td>\n",
       "      <td>173.726</td>\n",
       "      <td>10</td>\n",
       "      <td>10</td>\n",
       "      <td>9</td>\n",
       "    </tr>\n",
       "    <tr>\n",
       "      <th>10</th>\n",
       "      <td>100</td>\n",
       "      <td>170.551</td>\n",
       "      <td>11</td>\n",
       "      <td>11</td>\n",
       "      <td>10</td>\n",
       "    </tr>\n",
       "    <tr>\n",
       "      <th>11</th>\n",
       "      <td>100</td>\n",
       "      <td>170.551</td>\n",
       "      <td>12</td>\n",
       "      <td>11</td>\n",
       "      <td>10</td>\n",
       "    </tr>\n",
       "    <tr>\n",
       "      <th>12</th>\n",
       "      <td>100</td>\n",
       "      <td>170.551</td>\n",
       "      <td>13</td>\n",
       "      <td>11</td>\n",
       "      <td>10</td>\n",
       "    </tr>\n",
       "    <tr>\n",
       "      <th>13</th>\n",
       "      <td>100</td>\n",
       "      <td>164.000</td>\n",
       "      <td>14</td>\n",
       "      <td>14</td>\n",
       "      <td>11</td>\n",
       "    </tr>\n",
       "    <tr>\n",
       "      <th>14</th>\n",
       "      <td>100</td>\n",
       "      <td>157.578</td>\n",
       "      <td>15</td>\n",
       "      <td>15</td>\n",
       "      <td>12</td>\n",
       "    </tr>\n",
       "    <tr>\n",
       "      <th>15</th>\n",
       "      <td>100</td>\n",
       "      <td>149.685</td>\n",
       "      <td>16</td>\n",
       "      <td>16</td>\n",
       "      <td>13</td>\n",
       "    </tr>\n",
       "    <tr>\n",
       "      <th>16</th>\n",
       "      <td>100</td>\n",
       "      <td>145.149</td>\n",
       "      <td>17</td>\n",
       "      <td>17</td>\n",
       "      <td>14</td>\n",
       "    </tr>\n",
       "    <tr>\n",
       "      <th>17</th>\n",
       "      <td>100</td>\n",
       "      <td>144.242</td>\n",
       "      <td>18</td>\n",
       "      <td>18</td>\n",
       "      <td>15</td>\n",
       "    </tr>\n",
       "    <tr>\n",
       "      <th>18</th>\n",
       "      <td>100</td>\n",
       "      <td>141.158</td>\n",
       "      <td>19</td>\n",
       "      <td>19</td>\n",
       "      <td>16</td>\n",
       "    </tr>\n",
       "    <tr>\n",
       "      <th>19</th>\n",
       "      <td>100</td>\n",
       "      <td>138.799</td>\n",
       "      <td>20</td>\n",
       "      <td>20</td>\n",
       "      <td>17</td>\n",
       "    </tr>\n",
       "    <tr>\n",
       "      <th>20</th>\n",
       "      <td>100</td>\n",
       "      <td>137.438</td>\n",
       "      <td>21</td>\n",
       "      <td>21</td>\n",
       "      <td>18</td>\n",
       "    </tr>\n",
       "    <tr>\n",
       "      <th>21</th>\n",
       "      <td>100</td>\n",
       "      <td>136.985</td>\n",
       "      <td>22</td>\n",
       "      <td>22</td>\n",
       "      <td>19</td>\n",
       "    </tr>\n",
       "    <tr>\n",
       "      <th>22</th>\n",
       "      <td>100</td>\n",
       "      <td>136.985</td>\n",
       "      <td>23</td>\n",
       "      <td>22</td>\n",
       "      <td>19</td>\n",
       "    </tr>\n",
       "    <tr>\n",
       "      <th>23</th>\n",
       "      <td>100</td>\n",
       "      <td>136.762</td>\n",
       "      <td>24</td>\n",
       "      <td>24</td>\n",
       "      <td>20</td>\n",
       "    </tr>\n",
       "    <tr>\n",
       "      <th>24</th>\n",
       "      <td>100</td>\n",
       "      <td>136.531</td>\n",
       "      <td>25</td>\n",
       "      <td>25</td>\n",
       "      <td>21</td>\n",
       "    </tr>\n",
       "    <tr>\n",
       "      <th>25</th>\n",
       "      <td>100</td>\n",
       "      <td>136.531</td>\n",
       "      <td>26</td>\n",
       "      <td>25</td>\n",
       "      <td>21</td>\n",
       "    </tr>\n",
       "    <tr>\n",
       "      <th>26</th>\n",
       "      <td>100</td>\n",
       "      <td>136.531</td>\n",
       "      <td>27</td>\n",
       "      <td>25</td>\n",
       "      <td>21</td>\n",
       "    </tr>\n",
       "    <tr>\n",
       "      <th>27</th>\n",
       "      <td>100</td>\n",
       "      <td>136.531</td>\n",
       "      <td>28</td>\n",
       "      <td>25</td>\n",
       "      <td>21</td>\n",
       "    </tr>\n",
       "  </tbody>\n",
       "</table>\n",
       "</div>"
      ],
      "text/plain": [
       "   Ntile  measure_value  row_number_order  rank_order  dense_rank\n",
       "0    100   39642120.000                 1           1           1\n",
       "1    100   39642120.000                 2           1           1\n",
       "2    100     576484.000                 3           3           2\n",
       "3    100        200.488                 4           4           3\n",
       "4    100        190.400                 5           5           4\n",
       "5    100        188.694                 6           6           5\n",
       "6    100        186.880                 7           7           6\n",
       "7    100        185.519                 8           8           7\n",
       "8    100        175.087                 9           9           8\n",
       "9    100        173.726                10          10           9\n",
       "10   100        170.551                11          11          10\n",
       "11   100        170.551                12          11          10\n",
       "12   100        170.551                13          11          10\n",
       "13   100        164.000                14          14          11\n",
       "14   100        157.578                15          15          12\n",
       "15   100        149.685                16          16          13\n",
       "16   100        145.149                17          17          14\n",
       "17   100        144.242                18          18          15\n",
       "18   100        141.158                19          19          16\n",
       "19   100        138.799                20          20          17\n",
       "20   100        137.438                21          21          18\n",
       "21   100        136.985                22          22          19\n",
       "22   100        136.985                23          22          19\n",
       "23   100        136.762                24          24          20\n",
       "24   100        136.531                25          25          21\n",
       "25   100        136.531                26          25          21\n",
       "26   100        136.531                27          25          21\n",
       "27   100        136.531                28          25          21"
      ]
     },
     "execution_count": 256,
     "metadata": {},
     "output_type": "execute_result"
    }
   ],
   "source": [
    "# inspecting the 100th percentile\n",
    "hunderdthperdf = groupeddf.get_group(100)[[\"Ntile\",\"measure_value\"]].sort_values(\"measure_value\",ascending = False).reset_index(drop = True)\n",
    "hunderdthperdf[\"row_number_order\"] = hunderdthperdf[\"measure_value\"].rank(method='first',ascending = False).astype(\"int\")\n",
    "hunderdthperdf[\"rank_order\"] = hunderdthperdf[\"measure_value\"].rank(method = \"min\", ascending = False).astype(\"int\")\n",
    "hunderdthperdf[\"dense_rank\"] = hunderdthperdf[\"measure_value\"].rank(method = \"dense\", ascending = False).astype(\"int\")\n",
    "hunderdthperdf"
   ]
  },
  {
   "cell_type": "code",
   "execution_count": 257,
   "id": "ec239713",
   "metadata": {},
   "outputs": [],
   "source": [
    "# row number - just a running number, each row increaments by 1\n",
    "# rank order - each value gets a rank, same values get the same rank value, next rank will be last rank + number \\ \n",
    "# of duplicates from last rank\n",
    "# dense rank - each value gets a rank, same values get the same rank value, rank list will restart from last rank + 1 once \\\n",
    "# new value is found"
   ]
  },
  {
   "cell_type": "code",
   "execution_count": 258,
   "id": "942904f6",
   "metadata": {},
   "outputs": [
    {
     "data": {
      "text/plain": [
       "measure_value   200.488\n",
       "dtype: float64"
      ]
     },
     "execution_count": 258,
     "metadata": {},
     "output_type": "execute_result"
    }
   ],
   "source": [
    "# removing the 0 measure values from the measure values and keeping all measurements below 201\n",
    "newweightdf = healthdf[healthdf[\"measure\"] == \"weight\"].copy()\n",
    "newweightdf = newweightdf[\"measure_value\"].to_frame()\n",
    "mask1 = newweightdf[\"measure_value\"] != 0\n",
    "mask2 = newweightdf[\"measure_value\"] < 201\n",
    "newweightdf = newweightdf[mask1 & mask2] \n",
    "newweightdf.max()"
   ]
  },
  {
   "cell_type": "code",
   "execution_count": 259,
   "id": "d8db5245",
   "metadata": {},
   "outputs": [
    {
     "data": {
      "text/html": [
       "<div>\n",
       "<style scoped>\n",
       "    .dataframe tbody tr th:only-of-type {\n",
       "        vertical-align: middle;\n",
       "    }\n",
       "\n",
       "    .dataframe tbody tr th {\n",
       "        vertical-align: top;\n",
       "    }\n",
       "\n",
       "    .dataframe thead th {\n",
       "        text-align: right;\n",
       "    }\n",
       "</style>\n",
       "<table border=\"1\" class=\"dataframe\">\n",
       "  <thead>\n",
       "    <tr style=\"text-align: right;\">\n",
       "      <th></th>\n",
       "      <th>measure</th>\n",
       "      <th>result</th>\n",
       "    </tr>\n",
       "  </thead>\n",
       "  <tbody>\n",
       "    <tr>\n",
       "      <th>0</th>\n",
       "      <td>minimum</td>\n",
       "      <td>1.814</td>\n",
       "    </tr>\n",
       "    <tr>\n",
       "      <th>1</th>\n",
       "      <td>maximum</td>\n",
       "      <td>200.488</td>\n",
       "    </tr>\n",
       "    <tr>\n",
       "      <th>2</th>\n",
       "      <td>meanvalue</td>\n",
       "      <td>80.765</td>\n",
       "    </tr>\n",
       "    <tr>\n",
       "      <th>3</th>\n",
       "      <td>medianvalue</td>\n",
       "      <td>75.977</td>\n",
       "    </tr>\n",
       "    <tr>\n",
       "      <th>4</th>\n",
       "      <td>modevalue</td>\n",
       "      <td>68.492</td>\n",
       "    </tr>\n",
       "    <tr>\n",
       "      <th>5</th>\n",
       "      <td>standard_dev</td>\n",
       "      <td>26.913</td>\n",
       "    </tr>\n",
       "    <tr>\n",
       "      <th>6</th>\n",
       "      <td>deviation</td>\n",
       "      <td>724.294</td>\n",
       "    </tr>\n",
       "  </tbody>\n",
       "</table>\n",
       "</div>"
      ],
      "text/plain": [
       "        measure  result\n",
       "0       minimum   1.814\n",
       "1       maximum 200.488\n",
       "2     meanvalue  80.765\n",
       "3   medianvalue  75.977\n",
       "4     modevalue  68.492\n",
       "5  standard_dev  26.913\n",
       "6     deviation 724.294"
      ]
     },
     "execution_count": 259,
     "metadata": {},
     "output_type": "execute_result"
    }
   ],
   "source": [
    "# comparing summary stats\n",
    "\n",
    "minimum = newweightdf[\"measure_value\"].min()\n",
    "maximum = newweightdf[\"measure_value\"].max()\n",
    "meanvalue = newweightdf[\"measure_value\"].mean()\n",
    "medianvalue = newweightdf[\"measure_value\"].median()\n",
    "modevalue = newweightdf[\"measure_value\"].mode()[0]\n",
    "standard_dev = newweightdf[\"measure_value\"].std()\n",
    "\n",
    "deviation = newweightdf[\"measure_value\"].std() ** 2\n",
    "\n",
    "measures_list = [\"minimum\",\"maximum\",\"meanvalue\",\"medianvalue\",\"modevalue\",\"standard_dev\",\"deviation\"]\n",
    "column_list = [\"measure\",\"result\"]\n",
    "value_list = [minimum,maximum,meanvalue,medianvalue,modevalue,standard_dev,deviation]\n",
    "\n",
    "columns_zipped = list(zip(measures_list,value_list))\n",
    "resultsdf = pd.DataFrame(columns_zipped, columns=column_list)\n",
    "resultsdf"
   ]
  },
  {
   "cell_type": "code",
   "execution_count": 312,
   "id": "fb717a23",
   "metadata": {},
   "outputs": [
    {
     "data": {
      "text/html": [
       "<div>\n",
       "<style scoped>\n",
       "    .dataframe tbody tr th:only-of-type {\n",
       "        vertical-align: middle;\n",
       "    }\n",
       "\n",
       "    .dataframe tbody tr th {\n",
       "        vertical-align: top;\n",
       "    }\n",
       "\n",
       "    .dataframe thead th {\n",
       "        text-align: right;\n",
       "    }\n",
       "</style>\n",
       "<table border=\"1\" class=\"dataframe\">\n",
       "  <thead>\n",
       "    <tr style=\"text-align: right;\">\n",
       "      <th></th>\n",
       "      <th>min</th>\n",
       "      <th>max</th>\n",
       "      <th>count</th>\n",
       "    </tr>\n",
       "    <tr>\n",
       "      <th>Ntile</th>\n",
       "      <th></th>\n",
       "      <th></th>\n",
       "      <th></th>\n",
       "    </tr>\n",
       "  </thead>\n",
       "  <tbody>\n",
       "    <tr>\n",
       "      <th>1</th>\n",
       "      <td>1.814</td>\n",
       "      <td>29.483</td>\n",
       "      <td>28</td>\n",
       "    </tr>\n",
       "    <tr>\n",
       "      <th>2</th>\n",
       "      <td>29.483</td>\n",
       "      <td>32.477</td>\n",
       "      <td>28</td>\n",
       "    </tr>\n",
       "    <tr>\n",
       "      <th>3</th>\n",
       "      <td>32.659</td>\n",
       "      <td>35.380</td>\n",
       "      <td>28</td>\n",
       "    </tr>\n",
       "    <tr>\n",
       "      <th>4</th>\n",
       "      <td>35.380</td>\n",
       "      <td>36.741</td>\n",
       "      <td>28</td>\n",
       "    </tr>\n",
       "    <tr>\n",
       "      <th>5</th>\n",
       "      <td>36.741</td>\n",
       "      <td>37.195</td>\n",
       "      <td>27</td>\n",
       "    </tr>\n",
       "    <tr>\n",
       "      <th>...</th>\n",
       "      <td>...</td>\n",
       "      <td>...</td>\n",
       "      <td>...</td>\n",
       "    </tr>\n",
       "    <tr>\n",
       "      <th>96</th>\n",
       "      <td>130.472</td>\n",
       "      <td>131.523</td>\n",
       "      <td>28</td>\n",
       "    </tr>\n",
       "    <tr>\n",
       "      <th>97</th>\n",
       "      <td>131.523</td>\n",
       "      <td>132.449</td>\n",
       "      <td>27</td>\n",
       "    </tr>\n",
       "    <tr>\n",
       "      <th>98</th>\n",
       "      <td>132.502</td>\n",
       "      <td>133.538</td>\n",
       "      <td>28</td>\n",
       "    </tr>\n",
       "    <tr>\n",
       "      <th>99</th>\n",
       "      <td>133.658</td>\n",
       "      <td>136.036</td>\n",
       "      <td>28</td>\n",
       "    </tr>\n",
       "    <tr>\n",
       "      <th>100</th>\n",
       "      <td>136.078</td>\n",
       "      <td>190.400</td>\n",
       "      <td>28</td>\n",
       "    </tr>\n",
       "  </tbody>\n",
       "</table>\n",
       "<p>100 rows × 3 columns</p>\n",
       "</div>"
      ],
      "text/plain": [
       "          min     max  count\n",
       "Ntile                       \n",
       "1       1.814  29.483     28\n",
       "2      29.483  32.477     28\n",
       "3      32.659  35.380     28\n",
       "4      35.380  36.741     28\n",
       "5      36.741  37.195     27\n",
       "...       ...     ...    ...\n",
       "96    130.472 131.523     28\n",
       "97    131.523 132.449     27\n",
       "98    132.502 133.538     28\n",
       "99    133.658 136.036     28\n",
       "100   136.078 190.400     28\n",
       "\n",
       "[100 rows x 3 columns]"
      ]
     },
     "execution_count": 312,
     "metadata": {},
     "output_type": "execute_result"
    }
   ],
   "source": [
    "# new cumulative distribution\n",
    "cuts = 100\n",
    "newweightdf[\"Ntile\"] = pd.qcut(newweightdf[\"measure_value\"].sort_values()\n",
    "                               .rank(method='first'), cuts, labels = range(1, cuts + 1))\n",
    "groupeddf = newweightdf.groupby(\"Ntile\")\n",
    "groupeddf[\"measure_value\"].agg([\"min\",\"max\",\"count\"])"
   ]
  },
  {
   "cell_type": "code",
   "execution_count": 261,
   "id": "004189eb",
   "metadata": {
    "scrolled": true
   },
   "outputs": [
    {
     "data": {
      "text/plain": [
       "[<matplotlib.lines.Line2D at 0x2aeaa7c4fd0>]"
      ]
     },
     "execution_count": 261,
     "metadata": {},
     "output_type": "execute_result"
    },
    {
     "data": {
      "image/png": "[encoded data removed]",
      "text/plain": [
       "<Figure size 432x288 with 1 Axes>"
      ]
     },
     "metadata": {
      "needs_background": "light"
     },
     "output_type": "display_data"
    }
   ],
   "source": [
    "# data visualization - line chart\n",
    "y = groupeddf[\"measure_value\"].agg(\"max\").to_frame().rename(columns={'measure_value': 'ceiling_value'}).reset_index()[\"Ntile\"]\n",
    "x = groupeddf[\"measure_value\"].agg(\"max\").to_frame().rename(columns=\n",
    "                                                            {'measure_value': 'ceiling_value'}).reset_index()[\"ceiling_value\"]\n",
    "\n",
    "plt.plot(x,y)\n"
   ]
  },
  {
   "cell_type": "code",
   "execution_count": 262,
   "id": "8ac4bfd9",
   "metadata": {},
   "outputs": [
    {
     "data": {
      "text/plain": [
       "<function matplotlib.pyplot.show(close=None, block=None)>"
      ]
     },
     "execution_count": 262,
     "metadata": {},
     "output_type": "execute_result"
    },
    {
     "data": {
      "image/png": "[encoded data removed]",
      "text/plain": [
       "<Figure size 432x288 with 1 Axes>"
      ]
     },
     "metadata": {
      "needs_background": "light"
     },
     "output_type": "display_data"
    }
   ],
   "source": [
    "# create a frequency histogram\n",
    "newweightdf = healthdf[healthdf[\"measure\"] == \"weight\"].copy()\n",
    "mask1 = newweightdf[\"measure_value\"] > 0\n",
    "mask2 = newweightdf[\"measure_value\"] <= 200\n",
    "newweightdf = newweightdf[mask1 & mask2]\n",
    "x = newweightdf[\"measure_value\"]\n",
    "plt.hist(x, bins = 50)\n",
    "plt.show"
   ]
  }
 ],
 "metadata": {
  "kernelspec": {
   "display_name": "Python 3 (ipykernel)",
   "language": "python",
   "name": "python3"
  },
  "language_info": {
   "codemirror_mode": {
    "name": "ipython",
    "version": 3
   },
   "file_extension": ".py",
   "mimetype": "text/x-python",
   "name": "python",
   "nbconvert_exporter": "python",
   "pygments_lexer": "ipython3",
   "version": "3.9.7"
  }
 },
 "nbformat": 4,
 "nbformat_minor": 5
}
