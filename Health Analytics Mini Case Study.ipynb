{
 "cells": [
  {
   "cell_type": "code",
   "execution_count": 2,
   "id": "b09054d0",
   "metadata": {},
   "outputs": [],
   "source": [
    "import pandas as pd"
   ]
  },
  {
   "cell_type": "code",
   "execution_count": 3,
   "id": "79ac19ac",
   "metadata": {},
   "outputs": [
    {
     "name": "stdout",
     "output_type": "stream",
     "text": [
      "<class 'pandas.core.frame.DataFrame'>\n",
      "RangeIndex: 43891 entries, 0 to 43890\n",
      "Data columns (total 6 columns):\n",
      " #   Column         Non-Null Count  Dtype              \n",
      "---  ------         --------------  -----              \n",
      " 0   id             43891 non-null  object             \n",
      " 1   log_date       43891 non-null  datetime64[ns, UTC]\n",
      " 2   measure        43891 non-null  category           \n",
      " 3   measure_value  43891 non-null  float64            \n",
      " 4   systolic       17868 non-null  float64            \n",
      " 5   diastolic      17868 non-null  float64            \n",
      "dtypes: category(1), datetime64[ns, UTC](1), float64(3), object(1)\n",
      "memory usage: 1.7+ MB\n"
     ]
    }
   ],
   "source": [
    "healthdf = pd.read_csv(r\"C:\\Users\\oriha\\Desktop\\Serious Sql Excercises\\csv\\health_user_logs.csv\", parse_dates=['log_date'])\n",
    "healthdf[\"measure\"] = healthdf[\"measure\"].astype(\"category\")\n",
    "healthdf.info()"
   ]
  },
  {
   "cell_type": "code",
   "execution_count": 10,
   "id": "e5b42a87",
   "metadata": {},
   "outputs": [
    {
     "data": {
      "text/plain": [
       "554"
      ]
     },
     "execution_count": 10,
     "metadata": {},
     "output_type": "execute_result"
    }
   ],
   "source": [
    "# How many unique users exist in the logs dataset?\n",
    "healthdf[\"id\"].nunique()"
   ]
  },
  {
   "cell_type": "code",
   "execution_count": 15,
   "id": "74fba2ef",
   "metadata": {},
   "outputs": [
    {
     "data": {
      "text/plain": [
       "79"
      ]
     },
     "execution_count": 15,
     "metadata": {},
     "output_type": "execute_result"
    }
   ],
   "source": [
    "# How many total measurements do we have per user on average?\n",
    "round(len(healthdf) / healthdf[\"id\"].nunique())"
   ]
  },
  {
   "cell_type": "code",
   "execution_count": 17,
   "id": "7b3127d8",
   "metadata": {},
   "outputs": [
    {
     "data": {
      "text/plain": [
       "2.0"
      ]
     },
     "execution_count": 17,
     "metadata": {},
     "output_type": "execute_result"
    }
   ],
   "source": [
    "# What about the median number of measurements per user?\n",
    "healthdf[\"id\"].value_counts().median()"
   ]
  },
  {
   "cell_type": "code",
   "execution_count": 53,
   "id": "0234f561",
   "metadata": {},
   "outputs": [
    {
     "data": {
      "text/plain": [
       "209"
      ]
     },
     "execution_count": 53,
     "metadata": {},
     "output_type": "execute_result"
    }
   ],
   "source": [
    "# How many users have 3 or more measurements?\n",
    "Id_counts = healthdf[\"id\"].value_counts()\n",
    "len(Id_counts[Id_counts >= 3])"
   ]
  },
  {
   "cell_type": "code",
   "execution_count": 54,
   "id": "dbf4f911",
   "metadata": {},
   "outputs": [
    {
     "data": {
      "text/plain": [
       "5"
      ]
     },
     "execution_count": 54,
     "metadata": {},
     "output_type": "execute_result"
    }
   ],
   "source": [
    "# How many users have 1,000 or more measurements?\n",
    "Id_counts = healthdf[\"id\"].value_counts()\n",
    "len(Id_counts[Id_counts >= 1000])"
   ]
  },
  {
   "cell_type": "code",
   "execution_count": 75,
   "id": "63549e96",
   "metadata": {},
   "outputs": [
    {
     "data": {
      "text/plain": [
       "(325, 0.5866425992779783)"
      ]
     },
     "execution_count": 75,
     "metadata": {},
     "output_type": "execute_result"
    }
   ],
   "source": [
    "# Looking at the logs data - what is the number and percentage of the active user base who:\n",
    "# Have logged blood glucose measurements?\n",
    "groupdf = healthdf[healthdf[\"measure\"] == \"blood_glucose\"].groupby(\"id\")\n",
    "number = len(groupdf[\"id\"])\n",
    "percentage =  number / healthdf[\"id\"].nunique()\n",
    "number, percentage"
   ]
  },
  {
   "cell_type": "code",
   "execution_count": 11,
   "id": "1fbd6aae",
   "metadata": {},
   "outputs": [
    {
     "data": {
      "text/plain": [
       "(204, 0.36823104693140796)"
      ]
     },
     "execution_count": 11,
     "metadata": {},
     "output_type": "execute_result"
    }
   ],
   "source": [
    "# Have at least 2 types of measurements?\n",
    "Id_counts = healthdf.groupby(\"id\")[\"measure\"].nunique()\n",
    "number = len(Id_counts[Id_counts >= 2])\n",
    "percentage =  number / healthdf[\"id\"].nunique()\n",
    "number, percentage"
   ]
  },
  {
   "cell_type": "code",
   "execution_count": 12,
   "id": "0d39ca83",
   "metadata": {},
   "outputs": [
    {
     "data": {
      "text/plain": [
       "(50, 0.09025270758122744)"
      ]
     },
     "execution_count": 12,
     "metadata": {},
     "output_type": "execute_result"
    }
   ],
   "source": [
    "# Have all 3 measures - blood glucose, weight and blood pressure?\n",
    "Id_counts = healthdf.groupby(\"id\")[\"measure\"].nunique()\n",
    "number = len(Id_counts[Id_counts >= 3])\n",
    "percentage =  number / healthdf[\"id\"].nunique()\n",
    "number, percentage"
   ]
  },
  {
   "cell_type": "code",
   "execution_count": 7,
   "id": "fdba8d16",
   "metadata": {},
   "outputs": [
    {
     "data": {
      "text/plain": [
       "(126.0, 79.0)"
      ]
     },
     "execution_count": 7,
     "metadata": {},
     "output_type": "execute_result"
    }
   ],
   "source": [
    "# For users that have blood pressure measurements:\n",
    "# What is the median systolic/diastolic blood pressure values?\n",
    "mediansys = healthdf[healthdf[\"measure\"] == \"blood_pressure\"][\"systolic\"].median()\n",
    "mediandia = healthdf[healthdf[\"measure\"] == \"blood_pressure\"][\"diastolic\"].median()\n",
    "mediansys,  mediandia"
   ]
  },
  {
   "cell_type": "code",
   "execution_count": null,
   "id": "f93be605",
   "metadata": {},
   "outputs": [],
   "source": []
  }
 ],
 "metadata": {
  "kernelspec": {
   "display_name": "Python 3 (ipykernel)",
   "language": "python",
   "name": "python3"
  },
  "language_info": {
   "codemirror_mode": {
    "name": "ipython",
    "version": 3
   },
   "file_extension": ".py",
   "mimetype": "text/x-python",
   "name": "python",
   "nbconvert_exporter": "python",
   "pygments_lexer": "ipython3",
   "version": "3.9.7"
  }
 },
 "nbformat": 4,
 "nbformat_minor": 5
}
